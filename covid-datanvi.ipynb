{
 "cells": [
  {
   "source": [
    "# I. Imports"
   ],
   "cell_type": "markdown",
   "metadata": {}
  },
  {
   "source": [
    "import pandas as pd"
   ],
   "cell_type": "code",
   "metadata": {},
   "execution_count": 1,
   "outputs": []
  },
  {
   "cell_type": "code",
   "execution_count": 2,
   "metadata": {},
   "outputs": [],
   "source": [
    "# Import CSV File\n",
    "covid_df = pd.read_csv(r'owid-covid-data.csv')"
   ]
  },
  {
   "cell_type": "code",
   "execution_count": 3,
   "metadata": {},
   "outputs": [
    {
     "output_type": "stream",
     "name": "stdout",
     "text": [
      "      iso_code continent     location        date  total_cases  new_cases  \\\n0          AFG      Asia  Afghanistan  2020-02-24          1.0        1.0   \n1          AFG      Asia  Afghanistan  2020-02-25          1.0        0.0   \n2          AFG      Asia  Afghanistan  2020-02-26          1.0        0.0   \n3          AFG      Asia  Afghanistan  2020-02-27          1.0        0.0   \n4          AFG      Asia  Afghanistan  2020-02-28          1.0        0.0   \n...        ...       ...          ...         ...          ...        ...   \n98899      ZWE    Africa     Zimbabwe  2021-06-24      44306.0      826.0   \n98900      ZWE    Africa     Zimbabwe  2021-06-25      45217.0      911.0   \n98901      ZWE    Africa     Zimbabwe  2021-06-26      46018.0      801.0   \n98902      ZWE    Africa     Zimbabwe  2021-06-27      46442.0      424.0   \n98903      ZWE    Africa     Zimbabwe  2021-06-28      47284.0      842.0   \n\n       new_cases_smoothed  total_deaths  new_deaths  new_deaths_smoothed  ...  \\\n0                     NaN           NaN         NaN                  NaN  ...   \n1                     NaN           NaN         NaN                  NaN  ...   \n2                     NaN           NaN         NaN                  NaN  ...   \n3                     NaN           NaN         NaN                  NaN  ...   \n4                     NaN           NaN         NaN                  NaN  ...   \n...                   ...           ...         ...                  ...  ...   \n98899             482.714        1709.0        17.0                8.857  ...   \n98900             554.571        1721.0        12.0                9.286  ...   \n98901             627.143        1725.0         4.0                8.429  ...   \n98902             666.143        1736.0        11.0                9.143  ...   \n98903             727.000        1749.0        13.0                9.143  ...   \n\n       extreme_poverty  cardiovasc_death_rate  diabetes_prevalence  \\\n0                  NaN                597.029                 9.59   \n1                  NaN                597.029                 9.59   \n2                  NaN                597.029                 9.59   \n3                  NaN                597.029                 9.59   \n4                  NaN                597.029                 9.59   \n...                ...                    ...                  ...   \n98899             21.4                307.846                 1.82   \n98900             21.4                307.846                 1.82   \n98901             21.4                307.846                 1.82   \n98902             21.4                307.846                 1.82   \n98903             21.4                307.846                 1.82   \n\n       female_smokers  male_smokers  handwashing_facilities  \\\n0                 NaN           NaN                  37.746   \n1                 NaN           NaN                  37.746   \n2                 NaN           NaN                  37.746   \n3                 NaN           NaN                  37.746   \n4                 NaN           NaN                  37.746   \n...               ...           ...                     ...   \n98899             1.6          30.7                  36.791   \n98900             1.6          30.7                  36.791   \n98901             1.6          30.7                  36.791   \n98902             1.6          30.7                  36.791   \n98903             1.6          30.7                  36.791   \n\n       hospital_beds_per_thousand  life_expectancy  human_development_index  \\\n0                             0.5            64.83                    0.511   \n1                             0.5            64.83                    0.511   \n2                             0.5            64.83                    0.511   \n3                             0.5            64.83                    0.511   \n4                             0.5            64.83                    0.511   \n...                           ...              ...                      ...   \n98899                         1.7            61.49                    0.571   \n98900                         1.7            61.49                    0.571   \n98901                         1.7            61.49                    0.571   \n98902                         1.7            61.49                    0.571   \n98903                         1.7            61.49                    0.571   \n\n       excess_mortality  \n0                   NaN  \n1                   NaN  \n2                   NaN  \n3                   NaN  \n4                   NaN  \n...                 ...  \n98899               NaN  \n98900               NaN  \n98901               NaN  \n98902               NaN  \n98903               NaN  \n\n[98904 rows x 60 columns]\n"
     ]
    }
   ],
   "source": [
    "print(covid_df)"
   ]
  }
 ],
 "metadata": {
  "language_info": {
   "name": "python",
   "version": "3.8.8"
  },
  "kernelspec": {
   "name": "python3",
   "display_name": "Python 3.8.8 64-bit ('base': conda)"
  },
  "interpreter": {
   "hash": "6c6c49b7dd7343ef535be7b4acad3c61aeb9ab634f061c141cdd7c617db924da"
  }
 },
 "nbformat": 4,
 "nbformat_minor": 4
}